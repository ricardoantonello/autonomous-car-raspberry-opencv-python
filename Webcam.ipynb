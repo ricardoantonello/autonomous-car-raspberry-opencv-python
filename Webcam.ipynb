{
 "cells": [
  {
   "cell_type": "code",
   "execution_count": 1,
   "metadata": {},
   "outputs": [
    {
     "ename": "SyntaxError",
     "evalue": "invalid syntax (<ipython-input-1-5068f7ee0779>, line 21)",
     "output_type": "error",
     "traceback": [
      "\u001b[0;36m  File \u001b[0;32m\"<ipython-input-1-5068f7ee0779>\"\u001b[0;36m, line \u001b[0;32m21\u001b[0m\n\u001b[0;31m    fswebcam -r 1280x720 image2.jpg\u001b[0m\n\u001b[0m                   ^\u001b[0m\n\u001b[0;31mSyntaxError\u001b[0m\u001b[0;31m:\u001b[0m invalid syntax\n"
     ]
    }
   ],
   "source": [
    "import cv2\n",
    "import time\n",
    "\n",
    "c = cv2.VideoCapture(0)  # Capture Video...\n",
    "time.sleep(10)\n",
    "n=1\n",
    "gray = None\n",
    "while(True):\n",
    "  ret, frame = c.read()\n",
    "  gray = cv2.cvtColor(frame, cv2.COLOR_BGR2GRAY)\n",
    "  cv2.imshow('frame',gray)\n",
    "  if cv2.waitKey(1) & 0xFF == ord('q'):\n",
    "    break\n",
    "  if cv2.waitKey(1) & 0xFF == ord('a'):\n",
    "    cv2.imwrite('frame1.jpg',gray)\n",
    "    n+=1\n",
    "cv2.imwrite('frame1.jpg',gray)  \n",
    "c.release()\n",
    "cv2.destroyAllWindows()\n",
    "time.sleep(10)\n",
    "fswebcam -r 1280x720 image2.jpg\n"
   ]
  },
  {
   "cell_type": "code",
   "execution_count": null,
   "metadata": {},
   "outputs": [],
   "source": [
    "import cv2\n",
    "import time\n",
    "\n",
    "class CameraInst():\n",
    "        # Constructor...\n",
    "        def __init__(self):\n",
    "                fps        = 20.0               # Frames per second...\n",
    "                resolution = (1920, 1080)         # Frame size/resolution...\n",
    "                w = 640\n",
    "                h = 480\n",
    "\n",
    "                self.cap = cv2.VideoCapture(0)  # Capture Video...\n",
    "                # self.cap.set(cv2.CV_CAP_PROP_FRAME_WIDTH,1920.0)\n",
    "                # self.cap.set(cv2.CV_CAP_PROP_FRAME_HEIGHT,1080.0)\n",
    "\n",
    "                print(\"Camera warming up ...\")\n",
    "                time.sleep(1)\n",
    "\n",
    "                # Define the codec and create VideoWriter object\n",
    "                fourcc = cv2.VideoWriter_fourcc(*\"H264\")     # You also can use (*'XVID')\n",
    "                self.out = cv2.VideoWriter('output.avi',fourcc, fps, (w, h))\n",
    "\n",
    "        def captureVideo(self):\n",
    "                # Capture\n",
    "                self.ret, self.frame = self.cap.read()\n",
    "                # Image manipulations come here...\n",
    "                self.gray = cv2.cvtColor(self.frame, cv2.COLOR_BGR2GRAY)\n",
    "                cv2.imshow('frame',self.gray)\n",
    "\n",
    "        def saveVideo(self):\n",
    "                # Write the frame\n",
    "                self.out.write(self.frame)\n",
    "\n",
    "        def __del__(self):\n",
    "                self.cap.release()\n",
    "                cv2.destroyAllWindows()\n",
    "                print(\"Camera disabled and all output windows closed...\")\n",
    "\n",
    "def main():\n",
    "        cam1 = CameraInst()\n",
    "\n",
    "        while(True):\n",
    "                # Display the resulting frames...\n",
    "                cam1.captureVideo()    # Live stream of video on screen...\n",
    "                cam1.saveVideo()       # Save video to file 'output.avi'...\n",
    "                if cv2.waitKey(1) & 0xFF == ord('q'):\n",
    "                        break\n",
    "\n",
    "        cleanUp()\n",
    "\n",
    "if __name__=='__main__':\n",
    "        main()"
   ]
  }
 ],
 "metadata": {
  "kernelspec": {
   "display_name": "opencv2",
   "language": "python",
   "name": "opencv2"
  },
  "language_info": {
   "codemirror_mode": {
    "name": "ipython",
    "version": 3
   },
   "file_extension": ".py",
   "mimetype": "text/x-python",
   "name": "python",
   "nbconvert_exporter": "python",
   "pygments_lexer": "ipython3",
   "version": "3.4.2"
  }
 },
 "nbformat": 4,
 "nbformat_minor": 2
}
